{
 "cells": [
  {
   "cell_type": "markdown",
   "metadata": {},
   "source": [
    "\n",
    "<h1>\"Guess The Word\" Game - A Beginner-level Python Project</h1>\n"
   ]
  },
  {
   "cell_type": "markdown",
   "metadata": {},
   "source": [
    "<h2>Introduction</h2>\n",
    "\n",
    "<p>The project idea is borrowed directly from the <a href=\"https://www.dataquest.io/projects/guided-project-a-word-raider/\">dataquest.io beginner Python projects page</a>. The page also provides guided instructions to aid completing the project. However, the actual code here is completely mine.</p>\n",
    "\n",
    "<p>The project itself is quite simple and straightforword: <strong>Build a simple 1-player word guessing game where the word to be guessed a 5-letter words</strong>.</p>"
   ]
  },
  {
   "cell_type": "markdown",
   "metadata": {},
   "source": [
    "<h2>Game Play</h2>\n",
    "\n",
    "<p>The game proceeds in this fashion:</p>\n",
    "<ol>\n",
    "    <li>The program randomly picks a word (called the \"target word\") from a list of 5-letter words imported from a \"words.txt\" file. This file is saved in the same folder as the game source code.</li>\n",
    "    <li>The player is asked to guess this target word; the player gets 7 chances to guess the correct word.</li>\n",
    "    <li>After each guess (called a \"turn\"), the game checks each letter in the player's guessed word and the player is shown which letters they have guessed correctly (including whether they are in the right position or misplaced) and which letters are completely wrong (i.e. letters which are not in the target word at all). This is repeated at each guessing turn, and the info shown to the player is updated each time.</li>\n",
    "    <li>If the player succeeds in guessing the correct word on or before the 7th turn, they win the game; otherwise they lose the game and are then shown the target word. Then the game ends.</li>\n",
    "</ol>"
   ]
  },
  {
   "cell_type": "markdown",
   "metadata": {},
   "source": [
    "<h2>Stepwise through the Source Code:</h2>\n",
    "\n",
    "<h3>Import required Python library</h3>"
   ]
  },
  {
   "cell_type": "code",
   "execution_count": null,
   "metadata": {},
   "outputs": [],
   "source": [
    "# Import required libraries\n",
    "from random import randint\n",
    "\n",
    "# Create a variable to hold the name of the game\n",
    "gname = \"\\'GUESS THE WORD\\' Game\""
   ]
  },
  {
   "cell_type": "markdown",
   "metadata": {},
   "source": [
    "<h3>Create a \"word bank\" variable and import the list of words from the Words.txt file</h3>"
   ]
  },
  {
   "cell_type": "code",
   "execution_count": null,
   "metadata": {},
   "outputs": [],
   "source": [
    "# Create word-bank variable\n",
    "word_bank = []\n",
    "\n",
    "# Read in words from a word bank file\n",
    "with open('words.txt', 'r') as word_bank_file:\n",
    "    for line in word_bank_file:\n",
    "        word_bank.append(line.rstrip().lower())\n",
    "        \n",
    "# The next line is just to see the full list of words. Comment out before shipping\n",
    "# word_bank"
   ]
  },
  {
   "cell_type": "markdown",
   "metadata": {},
   "source": [
    "<h3>Select the random target word</h3>"
   ]
  },
  {
   "cell_type": "code",
   "execution_count": null,
   "metadata": {},
   "outputs": [],
   "source": [
    "# Randomly select the target word to be guessed\n",
    "tword = word_bank[(randint(0,len(word_bank)-1))]\n",
    "\n",
    "# The next line is just to view the target word and not needed for gameplay. Comment out before shipping.\n",
    "# print(tword)"
   ]
  },
  {
   "cell_type": "markdown",
   "metadata": {},
   "source": [
    "<h3>For smooth gameplay, we create some variables to keep track of game info</h3>"
   ]
  },
  {
   "cell_type": "code",
   "execution_count": null,
   "metadata": {},
   "outputs": [],
   "source": [
    "# Define variables to keep track of game info and gameplay\n",
    "misplaced_guesses = []\n",
    "wrong_guesses = []\n",
    "turns = 0\n",
    "max_turns = 7"
   ]
  },
  {
   "cell_type": "markdown",
   "metadata": {},
   "source": [
    "<h3>Print a welcome message to announce start of game to the player</h3>"
   ]
  },
  {
   "cell_type": "code",
   "execution_count": null,
   "metadata": {},
   "outputs": [],
   "source": [
    "# Gameplay starts here with the welcome statement\n",
    "print(f\"\\n!!Welcome to the {gname}!!\\nIn this game the computer chooses a 5-letter random word and you have to guess the letters!\\nYou will have just {max_turns} turns to guess the letters correctly, so guess wisely!!\\n\")"
   ]
  },
  {
   "cell_type": "markdown",
   "metadata": {},
   "source": [
    "<h3>The actual game loop</h3>\n",
    "\n",
    "<ul>\n",
    "    <li>The main <code>while</code> loop runs until the end of game and controls the gameplay;</li>\n",
    "    <li>Nested <code>if/else</code> and <code>for</code> statements are used to control flow, make decisions and assign results (e.g. which letters are correct guesses and which aren't);</li>\n",
    "    <li>And lastly, <code>print</code> statements are used to provide feedback to the player and announce game results.</li>\n",
    "</ul>"
   ]
  },
  {
   "cell_type": "code",
   "execution_count": null,
   "metadata": {},
   "outputs": [],
   "source": [
    "# Run the game loop\n",
    "while True:\n",
    "    result = []\n",
    "    guess = input(\"Guess a 5-letter word...\")\n",
    "    turns += 1\n",
    "\n",
    "    # Checks if the guessed word is acceptable\n",
    "    if not (guess.isalpha() and len(guess)==len(tword)): \n",
    "        print(f'This entry is not acceptable. Please enter a 5-letter word with no symbols or numbers.')\n",
    "    else:\n",
    "        guess = guess.lower()\n",
    "\n",
    "        # Compares the guessed to target word and gives info to player\n",
    "        for i in range(0,len(tword)):\n",
    "            char = guess[i]\n",
    "            if char == tword[i]:\n",
    "                result.append(char.upper())\n",
    "                if char in misplaced_guesses:\n",
    "                    misplaced_guesses.remove(char)\n",
    "            else:\n",
    "                result.append(\"_\")\n",
    "                if char in tword and char not in misplaced_guesses:\n",
    "                        misplaced_guesses.append(guess[i])\n",
    "                else: \n",
    "                    if char not in wrong_guesses:\n",
    "                        wrong_guesses.append(guess[i])\n",
    "        \n",
    "        # Shows current game state\n",
    "        print(\"Your current game state:\")\n",
    "        print(f\"These letters are not in the word at all: {wrong_guesses}\")\n",
    "        print(f\"These letters are in the word but misplaced: {misplaced_guesses}\")\n",
    "        print(f\"Correct guesses:{result}\")\n",
    "\n",
    "    # Continues or ends gameplay based on conditions\n",
    "    if guess == tword:\n",
    "        print(f'\\nYou guessed the correct word! It is {tword.upper()}!')\n",
    "        break\n",
    "    elif turns < max_turns:\n",
    "        print(f'\\nYou have {max_turns-turns} tries left!\\n')\n",
    "    else:\n",
    "        print(f'\\nYou have exhausted your tries. The word is {tword.upper()}. Better luck next time!')\n",
    "        break"
   ]
  },
  {
   "cell_type": "markdown",
   "metadata": {},
   "source": [
    "<h3>End of game</h3>\n",
    "<p>If the player guesses the correct word on or before the seventh turn, they win. Otherwise, the games ends and they lose.</p>"
   ]
  }
 ],
 "metadata": {
  "kernelspec": {
   "display_name": "Python 3 (ipykernel)",
   "language": "python",
   "name": "python3"
  },
  "language_info": {
   "codemirror_mode": {
    "name": "ipython",
    "version": 3
   },
   "file_extension": ".py",
   "mimetype": "text/x-python",
   "name": "python",
   "nbconvert_exporter": "python",
   "pygments_lexer": "ipython3",
   "version": "3.10.12"
  }
 },
 "nbformat": 4,
 "nbformat_minor": 4
}
